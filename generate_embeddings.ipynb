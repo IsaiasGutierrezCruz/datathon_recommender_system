{
 "cells": [
  {
   "cell_type": "code",
   "execution_count": 3,
   "metadata": {},
   "outputs": [],
   "source": [
    "import pandas as pd\n",
    "import numpy as np\n",
    "from annoy import AnnoyIndex\n",
    "\n",
    "\n",
    "from src.model import get_embeddings"
   ]
  },
  {
   "cell_type": "markdown",
   "metadata": {},
   "source": [
    "### Read dataset"
   ]
  },
  {
   "cell_type": "code",
   "execution_count": null,
   "metadata": {},
   "outputs": [],
   "source": [
    "dataset_path = \"dataset.csv\"\n",
    "\n",
    "data = pd.read_csv(dataset_path)\n",
    "\n",
    "print(data.shape)\n",
    "data.head()"
   ]
  },
  {
   "cell_type": "markdown",
   "metadata": {},
   "source": [
    "### Generate embeddings and save them"
   ]
  },
  {
   "cell_type": "code",
   "execution_count": null,
   "metadata": {},
   "outputs": [],
   "source": [
    "embeddings = get_embeddings(data[\"description\"].to_list())"
   ]
  },
  {
   "cell_type": "code",
   "execution_count": null,
   "metadata": {},
   "outputs": [],
   "source": [
    "def store_embeddings(\n",
    "    embeddings: np.ndarray, \n",
    "    path: str,\n",
    "    df_full_data: pd.DataFrame, \n",
    "    number_of_trees: int = 10\n",
    ") -> None:\n",
    "    embedding_size = embeddings.shape[1]\n",
    "\n",
    "    ann = AnnoyIndex(embedding_size, metric=\"angular\")\n",
    "\n",
    "    for idx, item_vector in enumerate(embeddings):\n",
    "        id_item = df_full_data.iloc[idx]['id']\n",
    "        ann.add_item(id_item, item_vector)\n",
    "\n",
    "    ann.build(number_of_trees)\n",
    "    ann.save(str(path))"
   ]
  },
  {
   "cell_type": "code",
   "execution_count": null,
   "metadata": {},
   "outputs": [],
   "source": [
    "embeddings_path = \"assets/clothes-embeddings.ann\"\n",
    "store_embeddings(embeddings, path=embeddings_path, df_full_data=data)"
   ]
  }
 ],
 "metadata": {
  "kernelspec": {
   "display_name": "Python 3",
   "language": "python",
   "name": "python3"
  },
  "language_info": {
   "codemirror_mode": {
    "name": "ipython",
    "version": 3
   },
   "file_extension": ".py",
   "mimetype": "text/x-python",
   "name": "python",
   "nbconvert_exporter": "python",
   "pygments_lexer": "ipython3",
   "version": "3.9.6"
  }
 },
 "nbformat": 4,
 "nbformat_minor": 2
}
